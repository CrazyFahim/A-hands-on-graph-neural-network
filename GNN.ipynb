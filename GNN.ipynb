{
 "cells": [
  {
   "cell_type": "code",
   "execution_count": 1,
   "id": "abeeadc3",
   "metadata": {
    "_cell_guid": "b1076dfc-b9ad-4769-8c92-a6c4dae69d19",
    "_uuid": "8f2839f25d086af736a60e9eeb907d3b93b6e0e5",
    "execution": {
     "iopub.execute_input": "2025-08-30T04:52:59.564728Z",
     "iopub.status.busy": "2025-08-30T04:52:59.564080Z",
     "iopub.status.idle": "2025-08-30T04:53:01.553303Z",
     "shell.execute_reply": "2025-08-30T04:53:01.552112Z"
    },
    "papermill": {
     "duration": 2.005785,
     "end_time": "2025-08-30T04:53:01.554886",
     "exception": false,
     "start_time": "2025-08-30T04:52:59.549101",
     "status": "completed"
    },
    "tags": []
   },
   "outputs": [
    {
     "name": "stdout",
     "output_type": "stream",
     "text": [
      "/kaggle/input/esol-preprocessed/GNN.ipynb\n",
      "/kaggle/input/esol-preprocessed/dataset/ESOL/description.md\n",
      "/kaggle/input/esol-preprocessed/dataset/ESOL/delaney-processed.csv\n",
      "/kaggle/input/esol-preprocessed/paper/2010.05234v3.pdf\n"
     ]
    }
   ],
   "source": [
    "# This Python 3 environment comes with many helpful analytics libraries installed\n",
    "# It is defined by the kaggle/python Docker image: https://github.com/kaggle/docker-python\n",
    "# For example, here's several helpful packages to load\n",
    "\n",
    "import numpy as np # linear algebra\n",
    "import pandas as pd # data processing, CSV file I/O (e.g. pd.read_csv)\n",
    "\n",
    "# Input data files are available in the read-only \"../input/\" directory\n",
    "# For example, running this (by clicking run or pressing Shift+Enter) will list all files under the input directory\n",
    "\n",
    "import os\n",
    "for dirname, _, filenames in os.walk('/kaggle/input'):\n",
    "    for filename in filenames:\n",
    "        print(os.path.join(dirname, filename))\n",
    "\n",
    "# You can write up to 20GB to the current directory (/kaggle/working/) that gets preserved as output when you create a version using \"Save & Run All\" \n",
    "# You can also write temporary files to /kaggle/temp/, but they won't be saved outside of the current session"
   ]
  },
  {
   "cell_type": "markdown",
   "id": "eccebebd",
   "metadata": {
    "papermill": {
     "duration": 0.004741,
     "end_time": "2025-08-30T04:53:01.565104",
     "exception": false,
     "start_time": "2025-08-30T04:53:01.560363",
     "status": "completed"
    },
    "tags": []
   },
   "source": [
    "### Common libraries "
   ]
  },
  {
   "cell_type": "code",
   "execution_count": 2,
   "id": "5e1865ff",
   "metadata": {
    "execution": {
     "iopub.execute_input": "2025-08-30T04:53:01.576834Z",
     "iopub.status.busy": "2025-08-30T04:53:01.576422Z",
     "iopub.status.idle": "2025-08-30T04:53:01.580725Z",
     "shell.execute_reply": "2025-08-30T04:53:01.579943Z"
    },
    "papermill": {
     "duration": 0.011566,
     "end_time": "2025-08-30T04:53:01.582039",
     "exception": false,
     "start_time": "2025-08-30T04:53:01.570473",
     "status": "completed"
    },
    "tags": []
   },
   "outputs": [],
   "source": [
    "import math\n",
    "import numpy as np\n",
    "import pandas as pd\n",
    "import matplotlib.pyplot as plt\n"
   ]
  },
  {
   "cell_type": "markdown",
   "id": "7e23fcf2",
   "metadata": {
    "papermill": {
     "duration": 0.00471,
     "end_time": "2025-08-30T04:53:01.591820",
     "exception": false,
     "start_time": "2025-08-30T04:53:01.587110",
     "status": "completed"
    },
    "tags": []
   },
   "source": [
    "### Uploaded and loaded the dataset"
   ]
  },
  {
   "cell_type": "code",
   "execution_count": 3,
   "id": "dcd8ac02",
   "metadata": {
    "execution": {
     "iopub.execute_input": "2025-08-30T04:53:01.602836Z",
     "iopub.status.busy": "2025-08-30T04:53:01.602509Z",
     "iopub.status.idle": "2025-08-30T04:53:01.689876Z",
     "shell.execute_reply": "2025-08-30T04:53:01.688955Z"
    },
    "papermill": {
     "duration": 0.094853,
     "end_time": "2025-08-30T04:53:01.691475",
     "exception": false,
     "start_time": "2025-08-30T04:53:01.596622",
     "status": "completed"
    },
    "tags": []
   },
   "outputs": [
    {
     "name": "stdout",
     "output_type": "stream",
     "text": [
      "Index(['Compound ID', 'ESOL predicted log solubility in mols per litre',\n",
      "       'Minimum Degree', 'Molecular Weight', 'Number of H-Bond Donors',\n",
      "       'Number of Rings', 'Number of Rotatable Bonds', 'Polar Surface Area',\n",
      "       'measured log solubility in mols per litre', 'smiles'],\n",
      "      dtype='object')\n",
      "       ESOL predicted log solubility in mols per litre  Minimum Degree  \\\n",
      "count                                      1128.000000     1128.000000   \n",
      "mean                                         -2.988192        1.058511   \n",
      "std                                           1.683220        0.238560   \n",
      "min                                          -9.702000        0.000000   \n",
      "25%                                          -3.948250        1.000000   \n",
      "50%                                          -2.870000        1.000000   \n",
      "75%                                          -1.843750        1.000000   \n",
      "max                                           1.091000        2.000000   \n",
      "\n",
      "       Molecular Weight  Number of H-Bond Donors  Number of Rings  \\\n",
      "count       1128.000000              1128.000000      1128.000000   \n",
      "mean         203.937074                 0.701241         1.390957   \n",
      "std          102.738077                 1.089727         1.318286   \n",
      "min           16.043000                 0.000000         0.000000   \n",
      "25%          121.183000                 0.000000         0.000000   \n",
      "50%          182.179000                 0.000000         1.000000   \n",
      "75%          270.372000                 1.000000         2.000000   \n",
      "max          780.949000                11.000000         8.000000   \n",
      "\n",
      "       Number of Rotatable Bonds  Polar Surface Area  \\\n",
      "count                1128.000000         1128.000000   \n",
      "mean                    2.177305           34.872881   \n",
      "std                     2.640974           35.383593   \n",
      "min                     0.000000            0.000000   \n",
      "25%                     0.000000            0.000000   \n",
      "50%                     1.000000           26.300000   \n",
      "75%                     3.000000           55.440000   \n",
      "max                    23.000000          268.680000   \n",
      "\n",
      "       measured log solubility in mols per litre  \n",
      "count                                1128.000000  \n",
      "mean                                   -3.050102  \n",
      "std                                     2.096441  \n",
      "min                                   -11.600000  \n",
      "25%                                    -4.317500  \n",
      "50%                                    -2.860000  \n",
      "75%                                    -1.600000  \n",
      "max                                     1.580000  \n"
     ]
    },
    {
     "data": {
      "text/html": [
       "<div>\n",
       "<style scoped>\n",
       "    .dataframe tbody tr th:only-of-type {\n",
       "        vertical-align: middle;\n",
       "    }\n",
       "\n",
       "    .dataframe tbody tr th {\n",
       "        vertical-align: top;\n",
       "    }\n",
       "\n",
       "    .dataframe thead th {\n",
       "        text-align: right;\n",
       "    }\n",
       "</style>\n",
       "<table border=\"1\" class=\"dataframe\">\n",
       "  <thead>\n",
       "    <tr style=\"text-align: right;\">\n",
       "      <th></th>\n",
       "      <th>Compound ID</th>\n",
       "      <th>ESOL predicted log solubility in mols per litre</th>\n",
       "      <th>Minimum Degree</th>\n",
       "      <th>Molecular Weight</th>\n",
       "      <th>Number of H-Bond Donors</th>\n",
       "      <th>Number of Rings</th>\n",
       "      <th>Number of Rotatable Bonds</th>\n",
       "      <th>Polar Surface Area</th>\n",
       "      <th>measured log solubility in mols per litre</th>\n",
       "      <th>smiles</th>\n",
       "    </tr>\n",
       "  </thead>\n",
       "  <tbody>\n",
       "    <tr>\n",
       "      <th>0</th>\n",
       "      <td>Amigdalin</td>\n",
       "      <td>-0.974</td>\n",
       "      <td>1</td>\n",
       "      <td>457.432</td>\n",
       "      <td>7</td>\n",
       "      <td>3</td>\n",
       "      <td>7</td>\n",
       "      <td>202.32</td>\n",
       "      <td>-0.77</td>\n",
       "      <td>OCC3OC(OCC2OC(OC(C#N)c1ccccc1)C(O)C(O)C2O)C(O)...</td>\n",
       "    </tr>\n",
       "    <tr>\n",
       "      <th>1</th>\n",
       "      <td>Fenfuram</td>\n",
       "      <td>-2.885</td>\n",
       "      <td>1</td>\n",
       "      <td>201.225</td>\n",
       "      <td>1</td>\n",
       "      <td>2</td>\n",
       "      <td>2</td>\n",
       "      <td>42.24</td>\n",
       "      <td>-3.30</td>\n",
       "      <td>Cc1occc1C(=O)Nc2ccccc2</td>\n",
       "    </tr>\n",
       "    <tr>\n",
       "      <th>2</th>\n",
       "      <td>citral</td>\n",
       "      <td>-2.579</td>\n",
       "      <td>1</td>\n",
       "      <td>152.237</td>\n",
       "      <td>0</td>\n",
       "      <td>0</td>\n",
       "      <td>4</td>\n",
       "      <td>17.07</td>\n",
       "      <td>-2.06</td>\n",
       "      <td>CC(C)=CCCC(C)=CC(=O)</td>\n",
       "    </tr>\n",
       "    <tr>\n",
       "      <th>3</th>\n",
       "      <td>Picene</td>\n",
       "      <td>-6.618</td>\n",
       "      <td>2</td>\n",
       "      <td>278.354</td>\n",
       "      <td>0</td>\n",
       "      <td>5</td>\n",
       "      <td>0</td>\n",
       "      <td>0.00</td>\n",
       "      <td>-7.87</td>\n",
       "      <td>c1ccc2c(c1)ccc3c2ccc4c5ccccc5ccc43</td>\n",
       "    </tr>\n",
       "    <tr>\n",
       "      <th>4</th>\n",
       "      <td>Thiophene</td>\n",
       "      <td>-2.232</td>\n",
       "      <td>2</td>\n",
       "      <td>84.143</td>\n",
       "      <td>0</td>\n",
       "      <td>1</td>\n",
       "      <td>0</td>\n",
       "      <td>0.00</td>\n",
       "      <td>-1.33</td>\n",
       "      <td>c1ccsc1</td>\n",
       "    </tr>\n",
       "  </tbody>\n",
       "</table>\n",
       "</div>"
      ],
      "text/plain": [
       "  Compound ID  ESOL predicted log solubility in mols per litre  \\\n",
       "0   Amigdalin                                           -0.974   \n",
       "1    Fenfuram                                           -2.885   \n",
       "2      citral                                           -2.579   \n",
       "3      Picene                                           -6.618   \n",
       "4   Thiophene                                           -2.232   \n",
       "\n",
       "   Minimum Degree  Molecular Weight  Number of H-Bond Donors  Number of Rings  \\\n",
       "0               1           457.432                        7                3   \n",
       "1               1           201.225                        1                2   \n",
       "2               1           152.237                        0                0   \n",
       "3               2           278.354                        0                5   \n",
       "4               2            84.143                        0                1   \n",
       "\n",
       "   Number of Rotatable Bonds  Polar Surface Area  \\\n",
       "0                          7              202.32   \n",
       "1                          2               42.24   \n",
       "2                          4               17.07   \n",
       "3                          0                0.00   \n",
       "4                          0                0.00   \n",
       "\n",
       "   measured log solubility in mols per litre  \\\n",
       "0                                      -0.77   \n",
       "1                                      -3.30   \n",
       "2                                      -2.06   \n",
       "3                                      -7.87   \n",
       "4                                      -1.33   \n",
       "\n",
       "                                              smiles  \n",
       "0  OCC3OC(OCC2OC(OC(C#N)c1ccccc1)C(O)C(O)C2O)C(O)...  \n",
       "1                             Cc1occc1C(=O)Nc2ccccc2  \n",
       "2                               CC(C)=CCCC(C)=CC(=O)  \n",
       "3                 c1ccc2c(c1)ccc3c2ccc4c5ccccc5ccc43  \n",
       "4                                            c1ccsc1  "
      ]
     },
     "execution_count": 3,
     "metadata": {},
     "output_type": "execute_result"
    }
   ],
   "source": [
    "data = pd.read_csv('/kaggle/input/esol-preprocessed/dataset/ESOL/delaney-processed.csv')\n",
    "data.head()\n",
    "print(data.columns)\n",
    "print(data.describe())\n",
    "data.head()\n"
   ]
  },
  {
   "cell_type": "markdown",
   "id": "19b12195",
   "metadata": {
    "papermill": {
     "duration": 0.00561,
     "end_time": "2025-08-30T04:53:01.702472",
     "exception": false,
     "start_time": "2025-08-30T04:53:01.696862",
     "status": "completed"
    },
    "tags": []
   },
   "source": [
    "### EDA"
   ]
  },
  {
   "cell_type": "markdown",
   "id": "834192d2",
   "metadata": {
    "papermill": {
     "duration": 0.006127,
     "end_time": "2025-08-30T04:53:01.714146",
     "exception": false,
     "start_time": "2025-08-30T04:53:01.708019",
     "status": "completed"
    },
    "tags": []
   },
   "source": [
    "#### Step 1: Drop Unnecessary Columns\n",
    "\n",
    "Remove the following columns from the dataset:\n",
    "\n",
    "- **Compound ID**: This is a non-numeric identifier and not useful for modeling.\n",
    "- **ESOL predicted log solubility**: This is a prediction from a baseline model and should not be used in training or evaluation.\n"
   ]
  },
  {
   "cell_type": "code",
   "execution_count": 4,
   "id": "21afd447",
   "metadata": {
    "execution": {
     "iopub.execute_input": "2025-08-30T04:53:01.726223Z",
     "iopub.status.busy": "2025-08-30T04:53:01.725864Z",
     "iopub.status.idle": "2025-08-30T04:53:01.735433Z",
     "shell.execute_reply": "2025-08-30T04:53:01.734646Z"
    },
    "papermill": {
     "duration": 0.017216,
     "end_time": "2025-08-30T04:53:01.736652",
     "exception": false,
     "start_time": "2025-08-30T04:53:01.719436",
     "status": "completed"
    },
    "tags": []
   },
   "outputs": [],
   "source": [
    "data = data.drop(columns=[\n",
    "    'Compound ID',\n",
    "    'ESOL predicted log solubility in mols per litre'\n",
    "])"
   ]
  },
  {
   "cell_type": "markdown",
   "id": "2b6c1efb",
   "metadata": {
    "papermill": {
     "duration": 0.00499,
     "end_time": "2025-08-30T04:53:01.747052",
     "exception": false,
     "start_time": "2025-08-30T04:53:01.742062",
     "status": "completed"
    },
    "tags": []
   },
   "source": [
    "#### Step 2: Handle missing values (if any)"
   ]
  },
  {
   "cell_type": "code",
   "execution_count": 5,
   "id": "bdac3a31",
   "metadata": {
    "execution": {
     "iopub.execute_input": "2025-08-30T04:53:01.758516Z",
     "iopub.status.busy": "2025-08-30T04:53:01.758227Z",
     "iopub.status.idle": "2025-08-30T04:53:01.763685Z",
     "shell.execute_reply": "2025-08-30T04:53:01.762841Z"
    },
    "papermill": {
     "duration": 0.012949,
     "end_time": "2025-08-30T04:53:01.765225",
     "exception": false,
     "start_time": "2025-08-30T04:53:01.752276",
     "status": "completed"
    },
    "tags": []
   },
   "outputs": [],
   "source": [
    "data = data.dropna()"
   ]
  },
  {
   "cell_type": "markdown",
   "id": "23f6be92",
   "metadata": {
    "papermill": {
     "duration": 0.005272,
     "end_time": "2025-08-30T04:53:01.776076",
     "exception": false,
     "start_time": "2025-08-30T04:53:01.770804",
     "status": "completed"
    },
    "tags": []
   },
   "source": [
    "#### Step 3: Separate features and target"
   ]
  },
  {
   "cell_type": "code",
   "execution_count": 6,
   "id": "19de4f4a",
   "metadata": {
    "execution": {
     "iopub.execute_input": "2025-08-30T04:53:01.788519Z",
     "iopub.status.busy": "2025-08-30T04:53:01.788214Z",
     "iopub.status.idle": "2025-08-30T04:53:01.793528Z",
     "shell.execute_reply": "2025-08-30T04:53:01.792669Z"
    },
    "papermill": {
     "duration": 0.013186,
     "end_time": "2025-08-30T04:53:01.794867",
     "exception": false,
     "start_time": "2025-08-30T04:53:01.781681",
     "status": "completed"
    },
    "tags": []
   },
   "outputs": [],
   "source": [
    "X = data.drop(columns=['measured log solubility in mols per litre', 'smiles'])\n",
    "y = data['measured log solubility in mols per litre']"
   ]
  },
  {
   "cell_type": "markdown",
   "id": "6443bb4a",
   "metadata": {
    "papermill": {
     "duration": 0.004956,
     "end_time": "2025-08-30T04:53:01.805390",
     "exception": false,
     "start_time": "2025-08-30T04:53:01.800434",
     "status": "completed"
    },
    "tags": []
   },
   "source": [
    "#### Custom SMILES → Graph conversion (using RDKit)\n",
    "To use **Graph Neural Networks (GNNs)** for molecular property prediction (e.g., solubility), molecules must be represented as graphs. This involves converting **SMILES** strings into graph objects, where:\n",
    "\n",
    "- **Nodes** = atoms (with features)\n",
    "- **Edges** = bonds (with optional features)"
   ]
  },
  {
   "cell_type": "code",
   "execution_count": 7,
   "id": "a12928bc",
   "metadata": {
    "execution": {
     "iopub.execute_input": "2025-08-30T04:53:01.816954Z",
     "iopub.status.busy": "2025-08-30T04:53:01.816320Z",
     "iopub.status.idle": "2025-08-30T04:53:14.570961Z",
     "shell.execute_reply": "2025-08-30T04:53:14.569759Z"
    },
    "papermill": {
     "duration": 12.762595,
     "end_time": "2025-08-30T04:53:14.573019",
     "exception": false,
     "start_time": "2025-08-30T04:53:01.810424",
     "status": "completed"
    },
    "tags": []
   },
   "outputs": [
    {
     "name": "stdout",
     "output_type": "stream",
     "text": [
      "Collecting rdkit\r\n",
      "  Downloading rdkit-2025.3.5-cp311-cp311-manylinux_2_28_x86_64.whl.metadata (4.1 kB)\r\n",
      "Requirement already satisfied: numpy in /usr/local/lib/python3.11/dist-packages (from rdkit) (1.26.4)\r\n",
      "Requirement already satisfied: Pillow in /usr/local/lib/python3.11/dist-packages (from rdkit) (11.2.1)\r\n",
      "Requirement already satisfied: mkl_fft in /usr/local/lib/python3.11/dist-packages (from numpy->rdkit) (1.3.8)\r\n",
      "Requirement already satisfied: mkl_random in /usr/local/lib/python3.11/dist-packages (from numpy->rdkit) (1.2.4)\r\n",
      "Requirement already satisfied: mkl_umath in /usr/local/lib/python3.11/dist-packages (from numpy->rdkit) (0.1.1)\r\n",
      "Requirement already satisfied: mkl in /usr/local/lib/python3.11/dist-packages (from numpy->rdkit) (2025.2.0)\r\n",
      "Requirement already satisfied: tbb4py in /usr/local/lib/python3.11/dist-packages (from numpy->rdkit) (2022.2.0)\r\n",
      "Requirement already satisfied: mkl-service in /usr/local/lib/python3.11/dist-packages (from numpy->rdkit) (2.4.1)\r\n",
      "Requirement already satisfied: intel-openmp<2026,>=2024 in /usr/local/lib/python3.11/dist-packages (from mkl->numpy->rdkit) (2024.2.0)\r\n",
      "Requirement already satisfied: tbb==2022.* in /usr/local/lib/python3.11/dist-packages (from mkl->numpy->rdkit) (2022.2.0)\r\n",
      "Requirement already satisfied: tcmlib==1.* in /usr/local/lib/python3.11/dist-packages (from tbb==2022.*->mkl->numpy->rdkit) (1.4.0)\r\n",
      "Requirement already satisfied: intel-cmplr-lib-rt in /usr/local/lib/python3.11/dist-packages (from mkl_umath->numpy->rdkit) (2024.2.0)\r\n",
      "Requirement already satisfied: intel-cmplr-lib-ur==2024.2.0 in /usr/local/lib/python3.11/dist-packages (from intel-openmp<2026,>=2024->mkl->numpy->rdkit) (2024.2.0)\r\n",
      "Downloading rdkit-2025.3.5-cp311-cp311-manylinux_2_28_x86_64.whl (36.3 MB)\r\n",
      "\u001b[2K   \u001b[90m━━━━━━━━━━━━━━━━━━━━━━━━━━━━━━━━━━━━━━━━\u001b[0m \u001b[32m36.3/36.3 MB\u001b[0m \u001b[31m50.6 MB/s\u001b[0m eta \u001b[36m0:00:00\u001b[0m\r\n",
      "\u001b[?25hInstalling collected packages: rdkit\r\n",
      "Successfully installed rdkit-2025.3.5\r\n",
      "Collecting torch-geometric\r\n",
      "  Downloading torch_geometric-2.6.1-py3-none-any.whl.metadata (63 kB)\r\n",
      "\u001b[2K     \u001b[90m━━━━━━━━━━━━━━━━━━━━━━━━━━━━━━━━━━━━━━━━\u001b[0m \u001b[32m63.1/63.1 kB\u001b[0m \u001b[31m2.0 MB/s\u001b[0m eta \u001b[36m0:00:00\u001b[0m\r\n",
      "\u001b[?25hRequirement already satisfied: aiohttp in /usr/local/lib/python3.11/dist-packages (from torch-geometric) (3.12.13)\r\n",
      "Requirement already satisfied: fsspec in /usr/local/lib/python3.11/dist-packages (from torch-geometric) (2025.5.1)\r\n",
      "Requirement already satisfied: jinja2 in /usr/local/lib/python3.11/dist-packages (from torch-geometric) (3.1.6)\r\n",
      "Requirement already satisfied: numpy in /usr/local/lib/python3.11/dist-packages (from torch-geometric) (1.26.4)\r\n",
      "Requirement already satisfied: psutil>=5.8.0 in /usr/local/lib/python3.11/dist-packages (from torch-geometric) (7.0.0)\r\n",
      "Requirement already satisfied: pyparsing in /usr/local/lib/python3.11/dist-packages (from torch-geometric) (3.0.9)\r\n",
      "Requirement already satisfied: requests in /usr/local/lib/python3.11/dist-packages (from torch-geometric) (2.32.4)\r\n",
      "Requirement already satisfied: tqdm in /usr/local/lib/python3.11/dist-packages (from torch-geometric) (4.67.1)\r\n",
      "Requirement already satisfied: aiohappyeyeballs>=2.5.0 in /usr/local/lib/python3.11/dist-packages (from aiohttp->torch-geometric) (2.6.1)\r\n",
      "Requirement already satisfied: aiosignal>=1.1.2 in /usr/local/lib/python3.11/dist-packages (from aiohttp->torch-geometric) (1.3.2)\r\n",
      "Requirement already satisfied: attrs>=17.3.0 in /usr/local/lib/python3.11/dist-packages (from aiohttp->torch-geometric) (25.3.0)\r\n",
      "Requirement already satisfied: frozenlist>=1.1.1 in /usr/local/lib/python3.11/dist-packages (from aiohttp->torch-geometric) (1.7.0)\r\n",
      "Requirement already satisfied: multidict<7.0,>=4.5 in /usr/local/lib/python3.11/dist-packages (from aiohttp->torch-geometric) (6.6.3)\r\n",
      "Requirement already satisfied: propcache>=0.2.0 in /usr/local/lib/python3.11/dist-packages (from aiohttp->torch-geometric) (0.3.2)\r\n",
      "Requirement already satisfied: yarl<2.0,>=1.17.0 in /usr/local/lib/python3.11/dist-packages (from aiohttp->torch-geometric) (1.20.1)\r\n",
      "Requirement already satisfied: MarkupSafe>=2.0 in /usr/local/lib/python3.11/dist-packages (from jinja2->torch-geometric) (3.0.2)\r\n",
      "Requirement already satisfied: mkl_fft in /usr/local/lib/python3.11/dist-packages (from numpy->torch-geometric) (1.3.8)\r\n",
      "Requirement already satisfied: mkl_random in /usr/local/lib/python3.11/dist-packages (from numpy->torch-geometric) (1.2.4)\r\n",
      "Requirement already satisfied: mkl_umath in /usr/local/lib/python3.11/dist-packages (from numpy->torch-geometric) (0.1.1)\r\n",
      "Requirement already satisfied: mkl in /usr/local/lib/python3.11/dist-packages (from numpy->torch-geometric) (2025.2.0)\r\n",
      "Requirement already satisfied: tbb4py in /usr/local/lib/python3.11/dist-packages (from numpy->torch-geometric) (2022.2.0)\r\n",
      "Requirement already satisfied: mkl-service in /usr/local/lib/python3.11/dist-packages (from numpy->torch-geometric) (2.4.1)\r\n",
      "Requirement already satisfied: charset_normalizer<4,>=2 in /usr/local/lib/python3.11/dist-packages (from requests->torch-geometric) (3.4.2)\r\n",
      "Requirement already satisfied: idna<4,>=2.5 in /usr/local/lib/python3.11/dist-packages (from requests->torch-geometric) (3.10)\r\n",
      "Requirement already satisfied: urllib3<3,>=1.21.1 in /usr/local/lib/python3.11/dist-packages (from requests->torch-geometric) (2.5.0)\r\n",
      "Requirement already satisfied: certifi>=2017.4.17 in /usr/local/lib/python3.11/dist-packages (from requests->torch-geometric) (2025.6.15)\r\n",
      "Requirement already satisfied: intel-openmp<2026,>=2024 in /usr/local/lib/python3.11/dist-packages (from mkl->numpy->torch-geometric) (2024.2.0)\r\n",
      "Requirement already satisfied: tbb==2022.* in /usr/local/lib/python3.11/dist-packages (from mkl->numpy->torch-geometric) (2022.2.0)\r\n",
      "Requirement already satisfied: tcmlib==1.* in /usr/local/lib/python3.11/dist-packages (from tbb==2022.*->mkl->numpy->torch-geometric) (1.4.0)\r\n",
      "Requirement already satisfied: intel-cmplr-lib-rt in /usr/local/lib/python3.11/dist-packages (from mkl_umath->numpy->torch-geometric) (2024.2.0)\r\n",
      "Requirement already satisfied: intel-cmplr-lib-ur==2024.2.0 in /usr/local/lib/python3.11/dist-packages (from intel-openmp<2026,>=2024->mkl->numpy->torch-geometric) (2024.2.0)\r\n",
      "Downloading torch_geometric-2.6.1-py3-none-any.whl (1.1 MB)\r\n",
      "\u001b[2K   \u001b[90m━━━━━━━━━━━━━━━━━━━━━━━━━━━━━━━━━━━━━━━━\u001b[0m \u001b[32m1.1/1.1 MB\u001b[0m \u001b[31m18.6 MB/s\u001b[0m eta \u001b[36m0:00:00\u001b[0m\r\n",
      "\u001b[?25hInstalling collected packages: torch-geometric\r\n",
      "Successfully installed torch-geometric-2.6.1\r\n"
     ]
    }
   ],
   "source": [
    "!pip install rdkit\n",
    "!pip install torch-geometric"
   ]
  },
  {
   "cell_type": "code",
   "execution_count": 8,
   "id": "0a7a7c34",
   "metadata": {
    "execution": {
     "iopub.execute_input": "2025-08-30T04:53:14.588548Z",
     "iopub.status.busy": "2025-08-30T04:53:14.587687Z",
     "iopub.status.idle": "2025-08-30T04:53:30.833579Z",
     "shell.execute_reply": "2025-08-30T04:53:30.832561Z"
    },
    "papermill": {
     "duration": 16.255366,
     "end_time": "2025-08-30T04:53:30.835482",
     "exception": false,
     "start_time": "2025-08-30T04:53:14.580116",
     "status": "completed"
    },
    "tags": []
   },
   "outputs": [],
   "source": [
    "from rdkit import Chem\n",
    "import torch\n",
    "from torch_geometric.data import Data\n",
    "\n",
    "def smiles_to_graph(smiles, label):\n",
    "    mol = Chem.MolFromSmiles(smiles)\n",
    "    if mol is None:\n",
    "        return None  # Skip invalid SMILES\n",
    "\n",
    "    # Extract atom features (simple example: atomic number)\n",
    "    node_feats = []\n",
    "    for atom in mol.GetAtoms():\n",
    "        node_feats.append([atom.GetAtomicNum()])\n",
    "\n",
    "    # Extract edge indices (bidirectional)\n",
    "    edges = []\n",
    "    for bond in mol.GetBonds():\n",
    "        start = bond.GetBeginAtomIdx()\n",
    "        end = bond.GetEndAtomIdx()\n",
    "        edges.append((start, end))\n",
    "        edges.append((end, start))  # undirected graph\n",
    "\n",
    "    edge_index = torch.tensor(edges, dtype=torch.long).t().contiguous()\n",
    "    x = torch.tensor(node_feats, dtype=torch.float)\n",
    "    y = torch.tensor([label], dtype=torch.float)\n",
    "\n",
    "    return Data(x=x, edge_index=edge_index, y=y)\n"
   ]
  },
  {
   "cell_type": "markdown",
   "id": "70887716",
   "metadata": {
    "papermill": {
     "duration": 0.0065,
     "end_time": "2025-08-30T04:53:30.848958",
     "exception": false,
     "start_time": "2025-08-30T04:53:30.842458",
     "status": "completed"
    },
    "tags": []
   },
   "source": [
    "#### Step 4: Apply conversion in dataset"
   ]
  },
  {
   "cell_type": "code",
   "execution_count": 9,
   "id": "55c6cccc",
   "metadata": {
    "execution": {
     "iopub.execute_input": "2025-08-30T04:53:30.863672Z",
     "iopub.status.busy": "2025-08-30T04:53:30.863207Z",
     "iopub.status.idle": "2025-08-30T04:53:31.403963Z",
     "shell.execute_reply": "2025-08-30T04:53:31.402966Z"
    },
    "papermill": {
     "duration": 0.550208,
     "end_time": "2025-08-30T04:53:31.405689",
     "exception": false,
     "start_time": "2025-08-30T04:53:30.855481",
     "status": "completed"
    },
    "tags": []
   },
   "outputs": [],
   "source": [
    "graphs = []\n",
    "\n",
    "for _, row in data.iterrows():\n",
    "    graph = smiles_to_graph(row['smiles'], row['measured log solubility in mols per litre'])\n",
    "    if graph is not None:\n",
    "        graphs.append(graph)"
   ]
  },
  {
   "cell_type": "markdown",
   "id": "9d337588",
   "metadata": {
    "papermill": {
     "duration": 0.006139,
     "end_time": "2025-08-30T04:53:31.418819",
     "exception": false,
     "start_time": "2025-08-30T04:53:31.412680",
     "status": "completed"
    },
    "tags": []
   },
   "source": [
    "#### Step 5: Split into Train/Test Sets (using random split)"
   ]
  },
  {
   "cell_type": "code",
   "execution_count": 10,
   "id": "636e55a1",
   "metadata": {
    "execution": {
     "iopub.execute_input": "2025-08-30T04:53:31.433378Z",
     "iopub.status.busy": "2025-08-30T04:53:31.432890Z",
     "iopub.status.idle": "2025-08-30T04:53:32.935734Z",
     "shell.execute_reply": "2025-08-30T04:53:32.934996Z"
    },
    "papermill": {
     "duration": 1.512365,
     "end_time": "2025-08-30T04:53:32.937413",
     "exception": false,
     "start_time": "2025-08-30T04:53:31.425048",
     "status": "completed"
    },
    "tags": []
   },
   "outputs": [],
   "source": [
    "from sklearn.model_selection import train_test_split\n",
    "train_graphs, test_graphs = train_test_split(graphs, test_size=0.2, random_state=42)\n"
   ]
  },
  {
   "cell_type": "code",
   "execution_count": 11,
   "id": "788ae585",
   "metadata": {
    "execution": {
     "iopub.execute_input": "2025-08-30T04:53:32.951838Z",
     "iopub.status.busy": "2025-08-30T04:53:32.951328Z",
     "iopub.status.idle": "2025-08-30T04:53:32.957098Z",
     "shell.execute_reply": "2025-08-30T04:53:32.956258Z"
    },
    "papermill": {
     "duration": 0.014517,
     "end_time": "2025-08-30T04:53:32.958478",
     "exception": false,
     "start_time": "2025-08-30T04:53:32.943961",
     "status": "completed"
    },
    "tags": []
   },
   "outputs": [
    {
     "name": "stdout",
     "output_type": "stream",
     "text": [
      "Total graphs: 1128\n",
      "Training graphs: 902\n",
      "Testing graphs: 226\n"
     ]
    }
   ],
   "source": [
    "print(f\"Total graphs: {len(graphs)}\")\n",
    "print(f\"Training graphs: {len(train_graphs)}\")\n",
    "print(f\"Testing graphs: {len(test_graphs)}\")"
   ]
  },
  {
   "cell_type": "markdown",
   "id": "f6982b13",
   "metadata": {
    "papermill": {
     "duration": 0.006263,
     "end_time": "2025-08-30T04:53:32.973571",
     "exception": false,
     "start_time": "2025-08-30T04:53:32.967308",
     "status": "completed"
    },
    "tags": []
   },
   "source": [
    "### For the fun part (ML stuffs)"
   ]
  },
  {
   "cell_type": "markdown",
   "id": "c0092ec8",
   "metadata": {
    "papermill": {
     "duration": 0.00702,
     "end_time": "2025-08-30T04:53:32.986982",
     "exception": false,
     "start_time": "2025-08-30T04:53:32.979962",
     "status": "completed"
    },
    "tags": []
   },
   "source": [
    "#### Create DataLoaders for GNN Training"
   ]
  },
  {
   "cell_type": "code",
   "execution_count": 12,
   "id": "0b2d81c1",
   "metadata": {
    "execution": {
     "iopub.execute_input": "2025-08-30T04:53:33.001866Z",
     "iopub.status.busy": "2025-08-30T04:53:33.001040Z",
     "iopub.status.idle": "2025-08-30T04:53:33.035443Z",
     "shell.execute_reply": "2025-08-30T04:53:33.034367Z"
    },
    "papermill": {
     "duration": 0.043276,
     "end_time": "2025-08-30T04:53:33.036892",
     "exception": false,
     "start_time": "2025-08-30T04:53:32.993616",
     "status": "completed"
    },
    "tags": []
   },
   "outputs": [
    {
     "name": "stdout",
     "output_type": "stream",
     "text": [
      "DataBatch(x=[486, 1], edge_index=[2, 1030], y=[32], batch=[486], ptr=[33])\n"
     ]
    }
   ],
   "source": [
    "from torch_geometric.loader import DataLoader\n",
    "\n",
    "# Create DataLoaders\n",
    "train_loader = DataLoader(train_graphs, batch_size=32, shuffle=True)\n",
    "test_loader = DataLoader(test_graphs, batch_size=32, shuffle=False)\n",
    "\n",
    "# Check batch structure\n",
    "for batch in train_loader:\n",
    "    print(batch)\n",
    "    break\n"
   ]
  },
  {
   "cell_type": "markdown",
   "id": "cbb4be1c",
   "metadata": {
    "papermill": {
     "duration": 0.007529,
     "end_time": "2025-08-30T04:53:33.051257",
     "exception": false,
     "start_time": "2025-08-30T04:53:33.043728",
     "status": "completed"
    },
    "tags": []
   },
   "source": [
    "#### What it means: \n",
    "**Batched Graph Representation**\n",
    "\n",
    "This is a single batch of **32 graphs**, now represented as **one combined batched graph**. Here's what each component means:\n",
    "\n",
    "| Attribute             | Shape           | Meaning                                                                 |\n",
    "|----------------------|-----------------|-------------------------------------------------------------------------|\n",
    "| `x = [453, 1]`        | 453 total atoms (nodes), each with 1 feature (atomic number)             |\n",
    "| `edge_index = [2, 940]` | 940 total edges (directed, so bonds × 2), across all 32 graphs         |\n",
    "| `y = [32]`            | One scalar label per graph (solubility); 32 graphs in this batch         |\n",
    "| `batch = [453]`       | Tensor that maps each of the 453 atoms to one of the 32 graphs           |\n",
    "| `ptr = [33]`          | Internal indexing (used in `Batch` object); marks the graph boundaries   |\n"
   ]
  },
  {
   "cell_type": "markdown",
   "id": "dbcac0cb",
   "metadata": {
    "papermill": {
     "duration": 0.009096,
     "end_time": "2025-08-30T04:53:33.068104",
     "exception": false,
     "start_time": "2025-08-30T04:53:33.059008",
     "status": "completed"
    },
    "tags": []
   },
   "source": [
    "#### Full tranining script"
   ]
  },
  {
   "cell_type": "code",
   "execution_count": 13,
   "id": "da5760c7",
   "metadata": {
    "execution": {
     "iopub.execute_input": "2025-08-30T04:53:33.084903Z",
     "iopub.status.busy": "2025-08-30T04:53:33.084607Z",
     "iopub.status.idle": "2025-08-30T04:53:33.095662Z",
     "shell.execute_reply": "2025-08-30T04:53:33.094863Z"
    },
    "papermill": {
     "duration": 0.019966,
     "end_time": "2025-08-30T04:53:33.097013",
     "exception": false,
     "start_time": "2025-08-30T04:53:33.077047",
     "status": "completed"
    },
    "tags": []
   },
   "outputs": [],
   "source": [
    "import torch\n",
    "import torch.nn as nn\n",
    "import torch.nn.functional as F\n",
    "from torch_geometric.nn import GCNConv, global_mean_pool\n",
    "from torch_geometric.loader import DataLoader\n",
    "from sklearn.metrics import mean_squared_error\n",
    "from tqdm import tqdm\n",
    "import matplotlib.pyplot as plt\n",
    "import os\n",
    "\n",
    "# Define GCN model\n",
    "class GCN(torch.nn.Module):\n",
    "    def __init__(self):\n",
    "        super(GCN, self).__init__()\n",
    "        self.conv1 = GCNConv(in_channels=1, out_channels=64)\n",
    "        self.conv2 = GCNConv(in_channels=64, out_channels=64)\n",
    "        self.lin = nn.Linear(64, 1)\n",
    "\n",
    "    def forward(self, x, edge_index, batch):\n",
    "        x = self.conv1(x, edge_index)\n",
    "        x = F.relu(x)\n",
    "        x = self.conv2(x, edge_index)\n",
    "        x = F.relu(x)\n",
    "        x = global_mean_pool(x, batch)\n",
    "        return self.lin(x)\n",
    "\n",
    "# Training and evaluation functions\n",
    "def train(model, loader, optimizer, loss_fn, device):\n",
    "    model.train()\n",
    "    total_loss = 0\n",
    "    loop = tqdm(loader, desc=\"Training\", leave=False)\n",
    "\n",
    "    for batch in loop:\n",
    "        batch = batch.to(device)\n",
    "        optimizer.zero_grad()\n",
    "        out = model(batch.x, batch.edge_index, batch.batch)\n",
    "        loss = loss_fn(out.squeeze(), batch.y)\n",
    "        loss.backward()\n",
    "        optimizer.step()\n",
    "        total_loss += loss.item() * batch.num_graphs\n",
    "\n",
    "    return total_loss / len(loader.dataset)\n",
    "\n",
    "def evaluate(model, loader, device):\n",
    "    model.eval()\n",
    "    preds, targets = [], []\n",
    "\n",
    "    with torch.no_grad():\n",
    "        loop = tqdm(loader, desc=\"Evaluating\", leave=False)\n",
    "        for batch in loop:\n",
    "            batch = batch.to(device)\n",
    "            out = model(batch.x, batch.edge_index, batch.batch)\n",
    "            preds.extend(out.squeeze().cpu().numpy())\n",
    "            targets.extend(batch.y.cpu().numpy())\n",
    "\n",
    "    rmse = mean_squared_error(targets, preds, squared=False)\n",
    "    return rmse"
   ]
  },
  {
   "cell_type": "markdown",
   "id": "8ec40207",
   "metadata": {
    "papermill": {
     "duration": 0.00624,
     "end_time": "2025-08-30T04:53:33.110014",
     "exception": false,
     "start_time": "2025-08-30T04:53:33.103774",
     "status": "completed"
    },
    "tags": []
   },
   "source": [
    "#### Main Training Loop (with Checkpointing)"
   ]
  },
  {
   "cell_type": "code",
   "execution_count": 14,
   "id": "433a1c1d",
   "metadata": {
    "execution": {
     "iopub.execute_input": "2025-08-30T04:53:33.124149Z",
     "iopub.status.busy": "2025-08-30T04:53:33.123842Z",
     "iopub.status.idle": "2025-08-30T04:53:43.466200Z",
     "shell.execute_reply": "2025-08-30T04:53:43.465167Z"
    },
    "papermill": {
     "duration": 10.351069,
     "end_time": "2025-08-30T04:53:43.467544",
     "exception": false,
     "start_time": "2025-08-30T04:53:33.116475",
     "status": "completed"
    },
    "tags": []
   },
   "outputs": [
    {
     "name": "stdout",
     "output_type": "stream",
     "text": [
      "\n",
      "Epoch 1/50\n"
     ]
    },
    {
     "name": "stderr",
     "output_type": "stream",
     "text": [
      "                                                 \r"
     ]
    },
    {
     "name": "stdout",
     "output_type": "stream",
     "text": [
      "Train Loss: 7.9958 | Val RMSE: 2.3324\n",
      "-----------------> Saved best model.\n",
      "\n",
      "Epoch 2/50\n"
     ]
    },
    {
     "name": "stderr",
     "output_type": "stream",
     "text": [
      "                                                 \r"
     ]
    },
    {
     "name": "stdout",
     "output_type": "stream",
     "text": [
      "Train Loss: 5.0370 | Val RMSE: 2.3123\n",
      "-----------------> Saved best model.\n",
      "\n",
      "Epoch 3/50\n"
     ]
    },
    {
     "name": "stderr",
     "output_type": "stream",
     "text": [
      "                                                 \r"
     ]
    },
    {
     "name": "stdout",
     "output_type": "stream",
     "text": [
      "Train Loss: 5.0040 | Val RMSE: 2.3129\n",
      "\n",
      "Epoch 4/50\n"
     ]
    },
    {
     "name": "stderr",
     "output_type": "stream",
     "text": [
      "                                                 \r"
     ]
    },
    {
     "name": "stdout",
     "output_type": "stream",
     "text": [
      "Train Loss: 4.9966 | Val RMSE: 2.3048\n",
      "-----------------> Saved best model.\n",
      "\n",
      "Epoch 5/50\n"
     ]
    },
    {
     "name": "stderr",
     "output_type": "stream",
     "text": [
      "                                                 \r"
     ]
    },
    {
     "name": "stdout",
     "output_type": "stream",
     "text": [
      "Train Loss: 4.9579 | Val RMSE: 2.3034\n",
      "-----------------> Saved best model.\n",
      "\n",
      "Epoch 6/50\n"
     ]
    },
    {
     "name": "stderr",
     "output_type": "stream",
     "text": [
      "                                                 \r"
     ]
    },
    {
     "name": "stdout",
     "output_type": "stream",
     "text": [
      "Train Loss: 4.9224 | Val RMSE: 2.2991\n",
      "-----------------> Saved best model.\n",
      "\n",
      "Epoch 7/50\n"
     ]
    },
    {
     "name": "stderr",
     "output_type": "stream",
     "text": [
      "                                                 \r"
     ]
    },
    {
     "name": "stdout",
     "output_type": "stream",
     "text": [
      "Train Loss: 4.9211 | Val RMSE: 2.2952\n",
      "-----------------> Saved best model.\n",
      "\n",
      "Epoch 8/50\n"
     ]
    },
    {
     "name": "stderr",
     "output_type": "stream",
     "text": [
      "                                                 \r"
     ]
    },
    {
     "name": "stdout",
     "output_type": "stream",
     "text": [
      "Train Loss: 4.8966 | Val RMSE: 2.2884\n",
      "-----------------> Saved best model.\n",
      "\n",
      "Epoch 9/50\n"
     ]
    },
    {
     "name": "stderr",
     "output_type": "stream",
     "text": [
      "                                                 \r"
     ]
    },
    {
     "name": "stdout",
     "output_type": "stream",
     "text": [
      "Train Loss: 4.8814 | Val RMSE: 2.2849\n",
      "-----------------> Saved best model.\n",
      "\n",
      "Epoch 10/50\n"
     ]
    },
    {
     "name": "stderr",
     "output_type": "stream",
     "text": [
      "                                                 \r"
     ]
    },
    {
     "name": "stdout",
     "output_type": "stream",
     "text": [
      "Train Loss: 4.8495 | Val RMSE: 2.2800\n",
      "-----------------> Saved best model.\n",
      "\n",
      "Epoch 11/50\n"
     ]
    },
    {
     "name": "stderr",
     "output_type": "stream",
     "text": [
      "                                                 \r"
     ]
    },
    {
     "name": "stdout",
     "output_type": "stream",
     "text": [
      "Train Loss: 4.8464 | Val RMSE: 2.2756\n",
      "-----------------> Saved best model.\n",
      "\n",
      "Epoch 12/50\n"
     ]
    },
    {
     "name": "stderr",
     "output_type": "stream",
     "text": [
      "                                                 \r"
     ]
    },
    {
     "name": "stdout",
     "output_type": "stream",
     "text": [
      "Train Loss: 4.8111 | Val RMSE: 2.2751\n",
      "-----------------> Saved best model.\n",
      "\n",
      "Epoch 13/50\n"
     ]
    },
    {
     "name": "stderr",
     "output_type": "stream",
     "text": [
      "                                                 \r"
     ]
    },
    {
     "name": "stdout",
     "output_type": "stream",
     "text": [
      "Train Loss: 4.7640 | Val RMSE: 2.2683\n",
      "-----------------> Saved best model.\n",
      "\n",
      "Epoch 14/50\n"
     ]
    },
    {
     "name": "stderr",
     "output_type": "stream",
     "text": [
      "                                                 \r"
     ]
    },
    {
     "name": "stdout",
     "output_type": "stream",
     "text": [
      "Train Loss: 4.7421 | Val RMSE: 2.2640\n",
      "-----------------> Saved best model.\n",
      "\n",
      "Epoch 15/50\n"
     ]
    },
    {
     "name": "stderr",
     "output_type": "stream",
     "text": [
      "                                                 \r"
     ]
    },
    {
     "name": "stdout",
     "output_type": "stream",
     "text": [
      "Train Loss: 4.7201 | Val RMSE: 2.2590\n",
      "-----------------> Saved best model.\n",
      "\n",
      "Epoch 16/50\n"
     ]
    },
    {
     "name": "stderr",
     "output_type": "stream",
     "text": [
      "                                                 \r"
     ]
    },
    {
     "name": "stdout",
     "output_type": "stream",
     "text": [
      "Train Loss: 4.7176 | Val RMSE: 2.2603\n",
      "\n",
      "Epoch 17/50\n"
     ]
    },
    {
     "name": "stderr",
     "output_type": "stream",
     "text": [
      "                                                 \r"
     ]
    },
    {
     "name": "stdout",
     "output_type": "stream",
     "text": [
      "Train Loss: 4.6823 | Val RMSE: 2.2508\n",
      "-----------------> Saved best model.\n",
      "\n",
      "Epoch 18/50\n"
     ]
    },
    {
     "name": "stderr",
     "output_type": "stream",
     "text": [
      "                                                 \r"
     ]
    },
    {
     "name": "stdout",
     "output_type": "stream",
     "text": [
      "Train Loss: 4.6538 | Val RMSE: 2.2465\n",
      "-----------------> Saved best model.\n",
      "\n",
      "Epoch 19/50\n"
     ]
    },
    {
     "name": "stderr",
     "output_type": "stream",
     "text": [
      "                                                 \r"
     ]
    },
    {
     "name": "stdout",
     "output_type": "stream",
     "text": [
      "Train Loss: 4.6288 | Val RMSE: 2.2412\n",
      "-----------------> Saved best model.\n",
      "\n",
      "Epoch 20/50\n"
     ]
    },
    {
     "name": "stderr",
     "output_type": "stream",
     "text": [
      "                                                 \r"
     ]
    },
    {
     "name": "stdout",
     "output_type": "stream",
     "text": [
      "Train Loss: 4.6042 | Val RMSE: 2.2398\n",
      "-----------------> Saved best model.\n",
      "\n",
      "Epoch 21/50\n"
     ]
    },
    {
     "name": "stderr",
     "output_type": "stream",
     "text": [
      "                                                 \r"
     ]
    },
    {
     "name": "stdout",
     "output_type": "stream",
     "text": [
      "Train Loss: 4.5931 | Val RMSE: 2.2307\n",
      "-----------------> Saved best model.\n",
      "\n",
      "Epoch 22/50\n"
     ]
    },
    {
     "name": "stderr",
     "output_type": "stream",
     "text": [
      "                                                 \r"
     ]
    },
    {
     "name": "stdout",
     "output_type": "stream",
     "text": [
      "Train Loss: 4.5717 | Val RMSE: 2.2282\n",
      "-----------------> Saved best model.\n",
      "\n",
      "Epoch 23/50\n"
     ]
    },
    {
     "name": "stderr",
     "output_type": "stream",
     "text": [
      "                                                 \r"
     ]
    },
    {
     "name": "stdout",
     "output_type": "stream",
     "text": [
      "Train Loss: 4.5715 | Val RMSE: 2.2309\n",
      "\n",
      "Epoch 24/50\n"
     ]
    },
    {
     "name": "stderr",
     "output_type": "stream",
     "text": [
      "                                                 \r"
     ]
    },
    {
     "name": "stdout",
     "output_type": "stream",
     "text": [
      "Train Loss: 4.5075 | Val RMSE: 2.2161\n",
      "-----------------> Saved best model.\n",
      "\n",
      "Epoch 25/50\n"
     ]
    },
    {
     "name": "stderr",
     "output_type": "stream",
     "text": [
      "                                                 \r"
     ]
    },
    {
     "name": "stdout",
     "output_type": "stream",
     "text": [
      "Train Loss: 4.4786 | Val RMSE: 2.2120\n",
      "-----------------> Saved best model.\n",
      "\n",
      "Epoch 26/50\n"
     ]
    },
    {
     "name": "stderr",
     "output_type": "stream",
     "text": [
      "                                                 \r"
     ]
    },
    {
     "name": "stdout",
     "output_type": "stream",
     "text": [
      "Train Loss: 4.4604 | Val RMSE: 2.2049\n",
      "-----------------> Saved best model.\n",
      "\n",
      "Epoch 27/50\n"
     ]
    },
    {
     "name": "stderr",
     "output_type": "stream",
     "text": [
      "                                                 \r"
     ]
    },
    {
     "name": "stdout",
     "output_type": "stream",
     "text": [
      "Train Loss: 4.4381 | Val RMSE: 2.2031\n",
      "-----------------> Saved best model.\n",
      "\n",
      "Epoch 28/50\n"
     ]
    },
    {
     "name": "stderr",
     "output_type": "stream",
     "text": [
      "                                                 \r"
     ]
    },
    {
     "name": "stdout",
     "output_type": "stream",
     "text": [
      "Train Loss: 4.4320 | Val RMSE: 2.2016\n",
      "-----------------> Saved best model.\n",
      "\n",
      "Epoch 29/50\n"
     ]
    },
    {
     "name": "stderr",
     "output_type": "stream",
     "text": [
      "                                                 \r"
     ]
    },
    {
     "name": "stdout",
     "output_type": "stream",
     "text": [
      "Train Loss: 4.4049 | Val RMSE: 2.1972\n",
      "-----------------> Saved best model.\n",
      "\n",
      "Epoch 30/50\n"
     ]
    },
    {
     "name": "stderr",
     "output_type": "stream",
     "text": [
      "                                                 \r"
     ]
    },
    {
     "name": "stdout",
     "output_type": "stream",
     "text": [
      "Train Loss: 4.3979 | Val RMSE: 2.1955\n",
      "-----------------> Saved best model.\n",
      "\n",
      "Epoch 31/50\n"
     ]
    },
    {
     "name": "stderr",
     "output_type": "stream",
     "text": [
      "                                                 \r"
     ]
    },
    {
     "name": "stdout",
     "output_type": "stream",
     "text": [
      "Train Loss: 4.3973 | Val RMSE: 2.1892\n",
      "-----------------> Saved best model.\n",
      "\n",
      "Epoch 32/50\n"
     ]
    },
    {
     "name": "stderr",
     "output_type": "stream",
     "text": [
      "                                                 \r"
     ]
    },
    {
     "name": "stdout",
     "output_type": "stream",
     "text": [
      "Train Loss: 4.3739 | Val RMSE: 2.1981\n",
      "\n",
      "Epoch 33/50\n"
     ]
    },
    {
     "name": "stderr",
     "output_type": "stream",
     "text": [
      "                                                 \r"
     ]
    },
    {
     "name": "stdout",
     "output_type": "stream",
     "text": [
      "Train Loss: 4.4511 | Val RMSE: 2.1846\n",
      "-----------------> Saved best model.\n",
      "\n",
      "Epoch 34/50\n"
     ]
    },
    {
     "name": "stderr",
     "output_type": "stream",
     "text": [
      "                                                 \r"
     ]
    },
    {
     "name": "stdout",
     "output_type": "stream",
     "text": [
      "Train Loss: 4.3405 | Val RMSE: 2.1808\n",
      "-----------------> Saved best model.\n",
      "\n",
      "Epoch 35/50\n"
     ]
    },
    {
     "name": "stderr",
     "output_type": "stream",
     "text": [
      "                                                 \r"
     ]
    },
    {
     "name": "stdout",
     "output_type": "stream",
     "text": [
      "Train Loss: 4.3300 | Val RMSE: 2.2276\n",
      "\n",
      "Epoch 36/50\n"
     ]
    },
    {
     "name": "stderr",
     "output_type": "stream",
     "text": [
      "                                                 \r"
     ]
    },
    {
     "name": "stdout",
     "output_type": "stream",
     "text": [
      "Train Loss: 4.3621 | Val RMSE: 2.1771\n",
      "-----------------> Saved best model.\n",
      "\n",
      "Epoch 37/50\n"
     ]
    },
    {
     "name": "stderr",
     "output_type": "stream",
     "text": [
      "                                                 \r"
     ]
    },
    {
     "name": "stdout",
     "output_type": "stream",
     "text": [
      "Train Loss: 4.3215 | Val RMSE: 2.1808\n",
      "\n",
      "Epoch 38/50\n"
     ]
    },
    {
     "name": "stderr",
     "output_type": "stream",
     "text": [
      "                                                 \r"
     ]
    },
    {
     "name": "stdout",
     "output_type": "stream",
     "text": [
      "Train Loss: 4.3210 | Val RMSE: 2.1764\n",
      "-----------------> Saved best model.\n",
      "\n",
      "Epoch 39/50\n"
     ]
    },
    {
     "name": "stderr",
     "output_type": "stream",
     "text": [
      "                                                 \r"
     ]
    },
    {
     "name": "stdout",
     "output_type": "stream",
     "text": [
      "Train Loss: 4.3351 | Val RMSE: 2.1760\n",
      "-----------------> Saved best model.\n",
      "\n",
      "Epoch 40/50\n"
     ]
    },
    {
     "name": "stderr",
     "output_type": "stream",
     "text": [
      "                                                 \r"
     ]
    },
    {
     "name": "stdout",
     "output_type": "stream",
     "text": [
      "Train Loss: 4.3398 | Val RMSE: 2.1739\n",
      "-----------------> Saved best model.\n",
      "\n",
      "Epoch 41/50\n"
     ]
    },
    {
     "name": "stderr",
     "output_type": "stream",
     "text": [
      "                                                 \r"
     ]
    },
    {
     "name": "stdout",
     "output_type": "stream",
     "text": [
      "Train Loss: 4.3262 | Val RMSE: 2.1804\n",
      "\n",
      "Epoch 42/50\n"
     ]
    },
    {
     "name": "stderr",
     "output_type": "stream",
     "text": [
      "                                                 \r"
     ]
    },
    {
     "name": "stdout",
     "output_type": "stream",
     "text": [
      "Train Loss: 4.3102 | Val RMSE: 2.1731\n",
      "-----------------> Saved best model.\n",
      "\n",
      "Epoch 43/50\n"
     ]
    },
    {
     "name": "stderr",
     "output_type": "stream",
     "text": [
      "                                                 \r"
     ]
    },
    {
     "name": "stdout",
     "output_type": "stream",
     "text": [
      "Train Loss: 4.2988 | Val RMSE: 2.1817\n",
      "\n",
      "Epoch 44/50\n"
     ]
    },
    {
     "name": "stderr",
     "output_type": "stream",
     "text": [
      "                                                 \r"
     ]
    },
    {
     "name": "stdout",
     "output_type": "stream",
     "text": [
      "Train Loss: 4.3391 | Val RMSE: 2.1785\n",
      "\n",
      "Epoch 45/50\n"
     ]
    },
    {
     "name": "stderr",
     "output_type": "stream",
     "text": [
      "                                                 \r"
     ]
    },
    {
     "name": "stdout",
     "output_type": "stream",
     "text": [
      "Train Loss: 4.3317 | Val RMSE: 2.1828\n",
      "\n",
      "Epoch 46/50\n"
     ]
    },
    {
     "name": "stderr",
     "output_type": "stream",
     "text": [
      "                                                 \r"
     ]
    },
    {
     "name": "stdout",
     "output_type": "stream",
     "text": [
      "Train Loss: 4.3801 | Val RMSE: 2.1719\n",
      "-----------------> Saved best model.\n",
      "\n",
      "Epoch 47/50\n"
     ]
    },
    {
     "name": "stderr",
     "output_type": "stream",
     "text": [
      "                                                 \r"
     ]
    },
    {
     "name": "stdout",
     "output_type": "stream",
     "text": [
      "Train Loss: 4.3046 | Val RMSE: 2.1748\n",
      "\n",
      "Epoch 48/50\n"
     ]
    },
    {
     "name": "stderr",
     "output_type": "stream",
     "text": [
      "                                                 \r"
     ]
    },
    {
     "name": "stdout",
     "output_type": "stream",
     "text": [
      "Train Loss: 4.3184 | Val RMSE: 2.1722\n",
      "\n",
      "Epoch 49/50\n"
     ]
    },
    {
     "name": "stderr",
     "output_type": "stream",
     "text": [
      "                                                 \r"
     ]
    },
    {
     "name": "stdout",
     "output_type": "stream",
     "text": [
      "Train Loss: 4.2922 | Val RMSE: 2.1723\n",
      "\n",
      "Epoch 50/50\n"
     ]
    },
    {
     "name": "stderr",
     "output_type": "stream",
     "text": [
      "                                                 "
     ]
    },
    {
     "name": "stdout",
     "output_type": "stream",
     "text": [
      "Train Loss: 4.2943 | Val RMSE: 2.1718\n",
      "-----------------> Saved best model.\n",
      "\n",
      " Training complete.\n",
      "Best Validation RMSE: 2.1718\n"
     ]
    },
    {
     "name": "stderr",
     "output_type": "stream",
     "text": [
      "\r"
     ]
    }
   ],
   "source": [
    "# Set device and init\n",
    "device = torch.device('cuda' if torch.cuda.is_available() else 'cpu')\n",
    "model = GCN().to(device)\n",
    "optimizer = torch.optim.Adam(model.parameters(), lr=0.001)\n",
    "loss_fn = nn.MSELoss()\n",
    "\n",
    "# Save best model\n",
    "best_val_rmse = float('inf')\n",
    "checkpoint_path = \"best_model.pt\"\n",
    "\n",
    "# For plotting\n",
    "train_losses = []\n",
    "val_rmses = []\n",
    "\n",
    "# Training loop\n",
    "epochs = 50\n",
    "for epoch in range(1, epochs + 1):\n",
    "    print(f\"\\nEpoch {epoch}/{epochs}\")\n",
    "\n",
    "    train_loss = train(model, train_loader, optimizer, loss_fn, device)\n",
    "    val_rmse = evaluate(model, test_loader, device)\n",
    "\n",
    "    train_losses.append(train_loss)\n",
    "    val_rmses.append(val_rmse)\n",
    "\n",
    "    print(f\"Train Loss: {train_loss:.4f} | Val RMSE: {val_rmse:.4f}\")\n",
    "\n",
    "    if val_rmse < best_val_rmse:\n",
    "        best_val_rmse = val_rmse\n",
    "        torch.save(model.state_dict(), checkpoint_path)\n",
    "        print(\"-----------------> Saved best model.\")\n",
    "\n",
    "# Final evaluation\n",
    "print(\"\\n Training complete.\")\n",
    "print(f\"Best Validation RMSE: {best_val_rmse:.4f}\")\n"
   ]
  },
  {
   "cell_type": "markdown",
   "id": "be657f8b",
   "metadata": {
    "papermill": {
     "duration": 0.024211,
     "end_time": "2025-08-30T04:53:43.518042",
     "exception": false,
     "start_time": "2025-08-30T04:53:43.493831",
     "status": "completed"
    },
    "tags": []
   },
   "source": [
    "#### Load and use the best model"
   ]
  },
  {
   "cell_type": "code",
   "execution_count": 15,
   "id": "a4422707",
   "metadata": {
    "execution": {
     "iopub.execute_input": "2025-08-30T04:53:43.569890Z",
     "iopub.status.busy": "2025-08-30T04:53:43.569531Z",
     "iopub.status.idle": "2025-08-30T04:53:43.609679Z",
     "shell.execute_reply": "2025-08-30T04:53:43.608754Z"
    },
    "papermill": {
     "duration": 0.068465,
     "end_time": "2025-08-30T04:53:43.611427",
     "exception": false,
     "start_time": "2025-08-30T04:53:43.542962",
     "status": "completed"
    },
    "tags": []
   },
   "outputs": [
    {
     "name": "stderr",
     "output_type": "stream",
     "text": [
      "                                                 "
     ]
    },
    {
     "name": "stdout",
     "output_type": "stream",
     "text": [
      "Test RMSE (best model): 2.1718\n"
     ]
    },
    {
     "name": "stderr",
     "output_type": "stream",
     "text": [
      "\r"
     ]
    }
   ],
   "source": [
    "# Load best model\n",
    "model.load_state_dict(torch.load(\"best_model.pt\"))\n",
    "model.to(device)\n",
    "\n",
    "# Evaluate on test set again\n",
    "test_rmse = evaluate(model, test_loader, device)\n",
    "print(f\"Test RMSE (best model): {test_rmse:.4f}\")\n"
   ]
  },
  {
   "cell_type": "markdown",
   "id": "2382897a",
   "metadata": {
    "papermill": {
     "duration": 0.025146,
     "end_time": "2025-08-30T04:53:43.726432",
     "exception": false,
     "start_time": "2025-08-30T04:53:43.701286",
     "status": "completed"
    },
    "tags": []
   },
   "source": [
    "#### Plot Loss & RMSE"
   ]
  },
  {
   "cell_type": "code",
   "execution_count": 16,
   "id": "c3b9788a",
   "metadata": {
    "execution": {
     "iopub.execute_input": "2025-08-30T04:53:43.778283Z",
     "iopub.status.busy": "2025-08-30T04:53:43.777939Z",
     "iopub.status.idle": "2025-08-30T04:53:44.307327Z",
     "shell.execute_reply": "2025-08-30T04:53:44.306193Z"
    },
    "papermill": {
     "duration": 0.556759,
     "end_time": "2025-08-30T04:53:44.308845",
     "exception": false,
     "start_time": "2025-08-30T04:53:43.752086",
     "status": "completed"
    },
    "tags": []
   },
   "outputs": [
    {
     "data": {
      "image/png": "[encoded data removed]",
      "text/plain": [
       "<Figure size 1200x500 with 2 Axes>"
      ]
     },
     "metadata": {},
     "output_type": "display_data"
    }
   ],
   "source": [
    "plt.figure(figsize=(12, 5))\n",
    "\n",
    "# Training Loss\n",
    "plt.subplot(1, 2, 1)\n",
    "plt.plot(train_losses, label=\"Train Loss\", color='blue')\n",
    "plt.xlabel(\"Epoch\")\n",
    "plt.ylabel(\"MSE Loss\")\n",
    "plt.title(\"Training Loss\")\n",
    "plt.grid(True)\n",
    "plt.legend()\n",
    "\n",
    "# Validation RMSE\n",
    "plt.subplot(1, 2, 2)\n",
    "plt.plot(val_rmses, label=\"Validation RMSE\", color='green')\n",
    "plt.xlabel(\"Epoch\")\n",
    "plt.ylabel(\"RMSE\")\n",
    "plt.title(\"Validation RMSE\")\n",
    "plt.grid(True)\n",
    "plt.legend()\n",
    "\n",
    "plt.tight_layout()\n",
    "plt.show()\n"
   ]
  }
 ],
 "metadata": {
  "kaggle": {
   "accelerator": "none",
   "dataSources": [
    {
     "datasetId": 8169134,
     "sourceId": 12910733,
     "sourceType": "datasetVersion"
    }
   ],
   "dockerImageVersionId": 31089,
   "isGpuEnabled": false,
   "isInternetEnabled": true,
   "language": "python",
   "sourceType": "notebook"
  },
  "kernelspec": {
   "display_name": "Python 3",
   "language": "python",
   "name": "python3"
  },
  "language_info": {
   "codemirror_mode": {
    "name": "ipython",
    "version": 3
   },
   "file_extension": ".py",
   "mimetype": "text/x-python",
   "name": "python",
   "nbconvert_exporter": "python",
   "pygments_lexer": "ipython3",
   "version": "3.11.13"
  },
  "papermill": {
   "default_parameters": {},
   "duration": 52.700896,
   "end_time": "2025-08-30T04:53:46.744833",
   "environment_variables": {},
   "exception": null,
   "input_path": "__notebook__.ipynb",
   "output_path": "__notebook__.ipynb",
   "parameters": {},
   "start_time": "2025-08-30T04:52:54.043937",
   "version": "2.6.0"
  }
 },
 "nbformat": 4,
 "nbformat_minor": 5
}
